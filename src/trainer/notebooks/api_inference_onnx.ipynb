{
 "cells": [
  {
   "cell_type": "code",
   "execution_count": 3,
   "metadata": {},
   "outputs": [],
   "source": [
    "import pandas as pd\n",
    "\n",
    "from binance.client import Client\n",
    "from model import OnnxModel\n",
    "from pathlib import Path\n",
    "\n",
    "model = OnnxModel(\n",
    "    model_path=Path(\"models/btc_usdt/model.onnx\"), \n",
    "    scaler_path=Path(\"models/btc_usdt/scaler.pkl\")\n",
    ")\n",
    "binance_client = Client(\n",
    "    api_key=\"replace\", \n",
    "    api_secret=\"replace\"\n",
    ")\n",
    "klines = binance_client.get_historical_klines(\"BTCUSDT\", \"1h\", \"5 days ago UTC\")\n",
    "data = pd.DataFrame(\n",
    "    klines, \n",
    "    columns = [\n",
    "        \"timestamp\", \n",
    "        \"open\", \n",
    "        \"high\", \n",
    "        \"low\", \n",
    "        \"close\", \n",
    "        \"volume\", \n",
    "        \"close_time\", \n",
    "        \"quote_av\", \n",
    "        \"trades\", \n",
    "        \"tb_base_av\", \n",
    "        \"tb_quote_av\", \n",
    "        \"ignore\"\n",
    "    ],\n",
    ")\n",
    "data[\"timestamp\"] = pd.to_datetime(data[\"timestamp\"], unit=\"ms\")"
   ]
  },
  {
   "cell_type": "code",
   "execution_count": 12,
   "metadata": {},
   "outputs": [
    {
     "data": {
      "text/plain": [
       "str"
      ]
     },
     "execution_count": 12,
     "metadata": {},
     "output_type": "execute_result"
    }
   ],
   "source": [
    "type(data[\"close\"][0])"
   ]
  },
  {
   "cell_type": "code",
   "execution_count": 13,
   "metadata": {},
   "outputs": [],
   "source": [
    "rows = []\n",
    "for _, row in data.iterrows():\n",
    "    row_data = dict(\n",
    "        day_of_week=row[\"timestamp\"].dayofweek,\n",
    "        day_of_month=row[\"timestamp\"].day,\n",
    "        week_of_year=row[\"timestamp\"].week,\n",
    "        month_of_year=row[\"timestamp\"].month,\n",
    "        open=row[\"open\"],\n",
    "        high=row[\"high\"],\n",
    "        low=row[\"low\"],\n",
    "        close=row[\"close\"],\n",
    "        close_change=float(row[\"close\"]) - float(row[\"open\"]),\n",
    "    )\n",
    "    rows.append(row_data)\n",
    "df = pd.DataFrame(rows)"
   ]
  },
  {
   "cell_type": "code",
   "execution_count": 15,
   "metadata": {},
   "outputs": [
    {
     "data": {
      "text/html": [
       "<div>\n",
       "<style scoped>\n",
       "    .dataframe tbody tr th:only-of-type {\n",
       "        vertical-align: middle;\n",
       "    }\n",
       "\n",
       "    .dataframe tbody tr th {\n",
       "        vertical-align: top;\n",
       "    }\n",
       "\n",
       "    .dataframe thead th {\n",
       "        text-align: right;\n",
       "    }\n",
       "</style>\n",
       "<table border=\"1\" class=\"dataframe\">\n",
       "  <thead>\n",
       "    <tr style=\"text-align: right;\">\n",
       "      <th></th>\n",
       "      <th>day_of_week</th>\n",
       "      <th>day_of_month</th>\n",
       "      <th>week_of_year</th>\n",
       "      <th>month_of_year</th>\n",
       "      <th>open</th>\n",
       "      <th>high</th>\n",
       "      <th>low</th>\n",
       "      <th>close</th>\n",
       "      <th>close_change</th>\n",
       "    </tr>\n",
       "  </thead>\n",
       "  <tbody>\n",
       "    <tr>\n",
       "      <th>0</th>\n",
       "      <td>-0.666667</td>\n",
       "      <td>-1.0</td>\n",
       "      <td>-1.0</td>\n",
       "      <td>-0.818182</td>\n",
       "      <td>-0.511170</td>\n",
       "      <td>-0.532073</td>\n",
       "      <td>-0.512932</td>\n",
       "      <td>-0.528152</td>\n",
       "      <td>-0.059989</td>\n",
       "    </tr>\n",
       "    <tr>\n",
       "      <th>1</th>\n",
       "      <td>-0.666667</td>\n",
       "      <td>-1.0</td>\n",
       "      <td>-1.0</td>\n",
       "      <td>-0.818182</td>\n",
       "      <td>-0.528170</td>\n",
       "      <td>-0.547567</td>\n",
       "      <td>-0.518942</td>\n",
       "      <td>-0.536024</td>\n",
       "      <td>-0.011066</td>\n",
       "    </tr>\n",
       "    <tr>\n",
       "      <th>2</th>\n",
       "      <td>-0.666667</td>\n",
       "      <td>-1.0</td>\n",
       "      <td>-1.0</td>\n",
       "      <td>-0.818182</td>\n",
       "      <td>-0.536041</td>\n",
       "      <td>-0.540439</td>\n",
       "      <td>-0.517532</td>\n",
       "      <td>-0.529221</td>\n",
       "      <td>0.067574</td>\n",
       "    </tr>\n",
       "    <tr>\n",
       "      <th>3</th>\n",
       "      <td>-0.666667</td>\n",
       "      <td>-1.0</td>\n",
       "      <td>-1.0</td>\n",
       "      <td>-0.818182</td>\n",
       "      <td>-0.529199</td>\n",
       "      <td>-0.536196</td>\n",
       "      <td>-0.511428</td>\n",
       "      <td>-0.515339</td>\n",
       "      <td>0.105309</td>\n",
       "    </tr>\n",
       "    <tr>\n",
       "      <th>4</th>\n",
       "      <td>-0.666667</td>\n",
       "      <td>-1.0</td>\n",
       "      <td>-1.0</td>\n",
       "      <td>-0.818182</td>\n",
       "      <td>-0.515357</td>\n",
       "      <td>-0.534453</td>\n",
       "      <td>-0.509287</td>\n",
       "      <td>-0.519805</td>\n",
       "      <td>0.007186</td>\n",
       "    </tr>\n",
       "  </tbody>\n",
       "</table>\n",
       "</div>"
      ],
      "text/plain": [
       "   day_of_week  day_of_month  week_of_year  month_of_year      open      high  \\\n",
       "0    -0.666667          -1.0          -1.0      -0.818182 -0.511170 -0.532073   \n",
       "1    -0.666667          -1.0          -1.0      -0.818182 -0.528170 -0.547567   \n",
       "2    -0.666667          -1.0          -1.0      -0.818182 -0.536041 -0.540439   \n",
       "3    -0.666667          -1.0          -1.0      -0.818182 -0.529199 -0.536196   \n",
       "4    -0.666667          -1.0          -1.0      -0.818182 -0.515357 -0.534453   \n",
       "\n",
       "        low     close  close_change  \n",
       "0 -0.512932 -0.528152     -0.059989  \n",
       "1 -0.518942 -0.536024     -0.011066  \n",
       "2 -0.517532 -0.529221      0.067574  \n",
       "3 -0.511428 -0.515339      0.105309  \n",
       "4 -0.509287 -0.519805      0.007186  "
      ]
     },
     "execution_count": 15,
     "metadata": {},
     "output_type": "execute_result"
    }
   ],
   "source": [
    "scaled_data = pd.DataFrame(\n",
    "    model.scaler.transform(df),\n",
    "    index=df.index,\n",
    "    columns=df.columns,\n",
    ")\n",
    "scaled_data.head()"
   ]
  },
  {
   "cell_type": "code",
   "execution_count": 63,
   "metadata": {},
   "outputs": [],
   "source": [
    "import torch\n",
    "\n",
    "def create_single_sequence(input_data: pd.DataFrame, target_column: str):\n",
    "    return torch.Tensor(input_data.values).unsqueeze(0)\n"
   ]
  },
  {
   "cell_type": "code",
   "execution_count": 64,
   "metadata": {},
   "outputs": [
    {
     "data": {
      "text/plain": [
       "torch.Size([1, 120, 9])"
      ]
     },
     "execution_count": 64,
     "metadata": {},
     "output_type": "execute_result"
    }
   ],
   "source": [
    "X = create_single_sequence(scaled_data, \"close\")\n",
    "X.shape"
   ]
  },
  {
   "cell_type": "code",
   "execution_count": 65,
   "metadata": {},
   "outputs": [],
   "source": [
    "def to_numpy(tensor):\n",
    "    return tensor.detach().cpu().numpy() if tensor.requires_grad else tensor.cpu().numpy()"
   ]
  },
  {
   "cell_type": "code",
   "execution_count": 66,
   "metadata": {},
   "outputs": [],
   "source": [
    "inputs = {model.model.get_inputs()[0].name: to_numpy(X)}\n",
    "outputs = model.model.run(None, inputs)"
   ]
  },
  {
   "cell_type": "code",
   "execution_count": 77,
   "metadata": {},
   "outputs": [
    {
     "data": {
      "text/plain": [
       "array([-0.42638165], dtype=float32)"
      ]
     },
     "execution_count": 77,
     "metadata": {},
     "output_type": "execute_result"
    }
   ],
   "source": [
    "outputs[0][0]"
   ]
  },
  {
   "cell_type": "code",
   "execution_count": null,
   "metadata": {},
   "outputs": [],
   "source": []
  }
 ],
 "metadata": {
  "interpreter": {
   "hash": "4b027b75aad8c79f994d78973db14691f6006bbf12f3b227a1a37beecb5168d2"
  },
  "kernelspec": {
   "display_name": "Python 3.8.12 ('mur-serving')",
   "language": "python",
   "name": "python3"
  },
  "language_info": {
   "codemirror_mode": {
    "name": "ipython",
    "version": 3
   },
   "file_extension": ".py",
   "mimetype": "text/x-python",
   "name": "python",
   "nbconvert_exporter": "python",
   "pygments_lexer": "ipython3",
   "version": "3.8.12"
  },
  "orig_nbformat": 4
 },
 "nbformat": 4,
 "nbformat_minor": 2
}
