{
 "cells": [
  {
   "cell_type": "code",
   "execution_count": 1,
   "metadata": {},
   "outputs": [],
   "source": [
    "from minio import Minio"
   ]
  },
  {
   "cell_type": "code",
   "execution_count": 3,
   "metadata": {},
   "outputs": [
    {
     "data": {
      "text/plain": [
       "<minio.helpers.ObjectWriteResult at 0x7fb130e05df0>"
      ]
     },
     "execution_count": 3,
     "metadata": {},
     "output_type": "execute_result"
    }
   ],
   "source": [
    "client = Minio(\n",
    "    \"url:port\",\n",
    "    \"id\", \"mdp\",\n",
    "    secure=False\n",
    ")\n",
    "bucket = \"make-me-rich\"\n",
    "if not client.bucket_exists(bucket):\n",
    "    client.make_bucket(bucket)\n",
    "client.fput_object(\n",
    "    bucket_name=bucket,\n",
    "    object_name=\"btc_usdt/model.onnx\",\n",
    "    file_path=\"../data/06_models/model.onnx\",\n",
    ")"
   ]
  },
  {
   "cell_type": "code",
   "execution_count": null,
   "metadata": {},
   "outputs": [],
   "source": []
  }
 ],
 "metadata": {
  "interpreter": {
   "hash": "b1ce8d1aa01d11f3f70efbcde7bb935f26d292c4b979d96cad729611ab8905e5"
  },
  "kernelspec": {
   "display_name": "Python 3.8.12 64-bit ('make-me-rich': conda)",
   "language": "python",
   "name": "python3"
  },
  "language_info": {
   "codemirror_mode": {
    "name": "ipython",
    "version": 3
   },
   "file_extension": ".py",
   "mimetype": "text/x-python",
   "name": "python",
   "nbconvert_exporter": "python",
   "pygments_lexer": "ipython3",
   "version": "3.8.12"
  },
  "orig_nbformat": 4
 },
 "nbformat": 4,
 "nbformat_minor": 2
}
