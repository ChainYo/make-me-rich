{
 "cells": [
  {
   "cell_type": "code",
   "execution_count": 7,
   "metadata": {},
   "outputs": [],
   "source": [
    "import json\n",
    "import requests"
   ]
  },
  {
   "cell_type": "code",
   "execution_count": 23,
   "metadata": {},
   "outputs": [],
   "source": [
    "def cache_coin_data_history(coin: str, currency: str):\n",
    "    \"\"\"\n",
    "    Request historical data for a coin and a currency\n",
    "    and store it in cache.\n",
    "\n",
    "    Args:\n",
    "        coin (str): Crypto name.\n",
    "        currency (str): Currency name.\n",
    "\n",
    "    Returns:\n",
    "        dict: Dictionnary with the historical data.\n",
    "    \"\"\"\n",
    "\n",
    "    coin = coin.strip(\"$/_*()\")\n",
    "    data = requests.get(f\"https://api.coingecko.com/api/v3/coins/{coin}/market_chart?vs_currency={currency}&days=10&interval=daily\")\n",
    "    \n",
    "    return data\n"
   ]
  },
  {
   "cell_type": "code",
   "execution_count": 26,
   "metadata": {},
   "outputs": [
    {
     "data": {
      "text/plain": [
       "{'Date': 'Thu, 13 Jan 2022 10:40:32 GMT', 'Content-Type': 'application/json; charset=utf-8', 'Transfer-Encoding': 'chunked', 'Connection': 'keep-alive', 'Cache-Control': 'max-age=30, public, must-revalidate, s-maxage=30', 'Access-Control-Allow-Origin': '*', 'Access-Control-Allow-Methods': 'POST, PUT, DELETE, GET, OPTIONS', 'Access-Control-Request-Method': '*', 'Access-Control-Allow-Headers': 'Origin, X-Requested-With, Content-Type, Accept, Authorization', 'Access-Control-Expose-Headers': 'link, per-page, total', 'Vary': 'Accept-Encoding, Origin', 'Content-Encoding': 'gzip', 'ETag': 'W/\"3135f5cf34079105f1ba7cb8b82283ca\"', 'X-Request-Id': '95208d7e-416b-4325-9a73-316c5e861f84', 'X-Runtime': '0.031077', 'Alternate-Protocol': '443:npn-spdy/2', 'CF-Cache-Status': 'HIT', 'Age': '30', 'Expect-CT': 'max-age=604800, report-uri=\"https://report-uri.cloudflare.com/cdn-cgi/beacon/expect-ct\"', 'Server': 'cloudflare', 'CF-RAY': '6cce01cdefacee79-CDG'}"
      ]
     },
     "execution_count": 26,
     "metadata": {},
     "output_type": "execute_result"
    }
   ],
   "source": [
    "data = cache_coin_data_history(\"bitcoin\", \"usd\").headers\n",
    "data"
   ]
  },
  {
   "cell_type": "code",
   "execution_count": 8,
   "metadata": {},
   "outputs": [],
   "source": [
    "from itertools import product\n",
    "\n",
    "curr = [\"bitcoin\", \"ethereum\", \"litecoin\", \"bitcoin-cash\", \"tether\", \"bitcoin-sv\"]\n",
    "compare = [\"usd\"]\n",
    "\n",
    "datasets = list(product(curr, compare))"
   ]
  },
  {
   "cell_type": "code",
   "execution_count": 10,
   "metadata": {},
   "outputs": [
    {
     "name": "stdout",
     "output_type": "stream",
     "text": [
      "Name: bitcoin_vs_usd_market_chart\n",
      "Name: ethereum_vs_usd_market_chart\n",
      "Name: litecoin_vs_usd_market_chart\n",
      "Name: bitcoin-cash_vs_usd_market_chart\n",
      "Name: tether_vs_usd_market_chart\n",
      "Name: bitcoin-sv_vs_usd_market_chart\n"
     ]
    }
   ],
   "source": [
    "for df in datasets:\n",
    "    print(f\"Name: {df[0]}_vs_{df[1]}_market_chart\")"
   ]
  },
  {
   "cell_type": "code",
   "execution_count": null,
   "metadata": {},
   "outputs": [],
   "source": []
  }
 ],
 "metadata": {
  "interpreter": {
   "hash": "916dbcbb3f70747c44a77c7bcd40155683ae19c65e1c03b4aa3499c5328201f1"
  },
  "kernelspec": {
   "display_name": "Python 3.8.10 64-bit",
   "language": "python",
   "name": "python3"
  },
  "language_info": {
   "codemirror_mode": {
    "name": "ipython",
    "version": 3
   },
   "file_extension": ".py",
   "mimetype": "text/x-python",
   "name": "python",
   "nbconvert_exporter": "python",
   "pygments_lexer": "ipython3",
   "version": "3.8.10"
  },
  "orig_nbformat": 4
 },
 "nbformat": 4,
 "nbformat_minor": 2
}
