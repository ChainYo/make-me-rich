{
 "cells": [
  {
   "cell_type": "code",
   "execution_count": 7,
   "metadata": {},
   "outputs": [],
   "source": [
    "import json\n",
    "import requests"
   ]
  },
  {
   "cell_type": "code",
   "execution_count": 23,
   "metadata": {},
   "outputs": [],
   "source": [
    "def cache_coin_data_history(coin: str, currency: str):\n",
    "    \"\"\"\n",
    "    Request historical data for a coin and a currency\n",
    "    and store it in cache.\n",
    "\n",
    "    Args:\n",
    "        coin (str): Crypto name.\n",
    "        currency (str): Currency name.\n",
    "\n",
    "    Returns:\n",
    "        dict: Dictionnary with the historical data.\n",
    "    \"\"\"\n",
    "\n",
    "    coin = coin.strip(\"$/_*()\")\n",
    "    data = requests.get(f\"https://api.coingecko.com/api/v3/coins/{coin}/market_chart?vs_currency={currency}&days=10&interval=daily\")\n",
    "    \n",
    "    return data\n"
   ]
  },
  {
   "cell_type": "code",
   "execution_count": 26,
   "metadata": {},
   "outputs": [
    {
     "data": {
      "text/plain": [
       "{'Date': 'Thu, 13 Jan 2022 10:40:32 GMT', 'Content-Type': 'application/json; charset=utf-8', 'Transfer-Encoding': 'chunked', 'Connection': 'keep-alive', 'Cache-Control': 'max-age=30, public, must-revalidate, s-maxage=30', 'Access-Control-Allow-Origin': '*', 'Access-Control-Allow-Methods': 'POST, PUT, DELETE, GET, OPTIONS', 'Access-Control-Request-Method': '*', 'Access-Control-Allow-Headers': 'Origin, X-Requested-With, Content-Type, Accept, Authorization', 'Access-Control-Expose-Headers': 'link, per-page, total', 'Vary': 'Accept-Encoding, Origin', 'Content-Encoding': 'gzip', 'ETag': 'W/\"3135f5cf34079105f1ba7cb8b82283ca\"', 'X-Request-Id': '95208d7e-416b-4325-9a73-316c5e861f84', 'X-Runtime': '0.031077', 'Alternate-Protocol': '443:npn-spdy/2', 'CF-Cache-Status': 'HIT', 'Age': '30', 'Expect-CT': 'max-age=604800, report-uri=\"https://report-uri.cloudflare.com/cdn-cgi/beacon/expect-ct\"', 'Server': 'cloudflare', 'CF-RAY': '6cce01cdefacee79-CDG'}"
      ]
     },
     "execution_count": 26,
     "metadata": {},
     "output_type": "execute_result"
    }
   ],
   "source": [
    "data = cache_coin_data_history(\"bitcoin\", \"usd\").headers\n",
    "data"
   ]
  },
  {
   "cell_type": "code",
   "execution_count": 8,
   "metadata": {},
   "outputs": [],
   "source": [
    "from itertools import product\n",
    "\n",
    "curr = [\"bitcoin\", \"ethereum\", \"litecoin\", \"bitcoin-cash\", \"tether\", \"bitcoin-sv\"]\n",
    "compare = [\"usd\"]\n",
    "\n",
    "datasets = list(product(curr, compare))"
   ]
  },
  {
   "cell_type": "code",
   "execution_count": 10,
   "metadata": {},
   "outputs": [
    {
     "name": "stdout",
     "output_type": "stream",
     "text": [
      "Name: bitcoin_vs_usd_market_chart\n",
      "Name: ethereum_vs_usd_market_chart\n",
      "Name: litecoin_vs_usd_market_chart\n",
      "Name: bitcoin-cash_vs_usd_market_chart\n",
      "Name: tether_vs_usd_market_chart\n",
      "Name: bitcoin-sv_vs_usd_market_chart\n"
     ]
    }
   ],
   "source": [
    "for df in datasets:\n",
    "    print(f\"Name: {df[0]}_vs_{df[1]}_market_chart\")"
   ]
  },
  {
   "cell_type": "code",
   "execution_count": 22,
   "metadata": {},
   "outputs": [],
   "source": [
    "# BINANCE API\n",
    "API_KEY=\"to_replace\"\n",
    "SECRET_KEY=\"to_replace\"\n",
    "\n",
    "from binance.client import Client\n",
    "\n",
    "import pandas as pd\n",
    "\n",
    "binance_client = Client(api_key=API_KEY, api_secret=SECRET_KEY)\n",
    "\n",
    "klines = binance_client.get_historical_klines(\"ETHUSDT\", Client.KLINE_INTERVAL_1DAY, \"3650 days ago UTC\")\n",
    "data = pd.DataFrame(klines, columns = ['timestamp', 'open', 'high', 'low', 'close', 'volume', 'close_time', 'quote_av', 'trades', 'tb_base_av', 'tb_quote_av', 'ignore' ])\n",
    "data['timestamp'] = pd.to_datetime(data['timestamp'], unit='ms')"
   ]
  },
  {
   "cell_type": "code",
   "execution_count": 23,
   "metadata": {},
   "outputs": [
    {
     "data": {
      "text/html": [
       "<div>\n",
       "<style scoped>\n",
       "    .dataframe tbody tr th:only-of-type {\n",
       "        vertical-align: middle;\n",
       "    }\n",
       "\n",
       "    .dataframe tbody tr th {\n",
       "        vertical-align: top;\n",
       "    }\n",
       "\n",
       "    .dataframe thead th {\n",
       "        text-align: right;\n",
       "    }\n",
       "</style>\n",
       "<table border=\"1\" class=\"dataframe\">\n",
       "  <thead>\n",
       "    <tr style=\"text-align: right;\">\n",
       "      <th></th>\n",
       "      <th>timestamp</th>\n",
       "      <th>open</th>\n",
       "      <th>high</th>\n",
       "      <th>low</th>\n",
       "      <th>close</th>\n",
       "      <th>volume</th>\n",
       "      <th>close_time</th>\n",
       "      <th>quote_av</th>\n",
       "      <th>trades</th>\n",
       "      <th>tb_base_av</th>\n",
       "      <th>tb_quote_av</th>\n",
       "      <th>ignore</th>\n",
       "    </tr>\n",
       "  </thead>\n",
       "  <tbody>\n",
       "    <tr>\n",
       "      <th>0</th>\n",
       "      <td>2017-08-17</td>\n",
       "      <td>301.13000000</td>\n",
       "      <td>312.18000000</td>\n",
       "      <td>298.00000000</td>\n",
       "      <td>302.00000000</td>\n",
       "      <td>7030.71034000</td>\n",
       "      <td>1503014399999</td>\n",
       "      <td>2154655.30035660</td>\n",
       "      <td>4522</td>\n",
       "      <td>6224.58999000</td>\n",
       "      <td>1908705.36853020</td>\n",
       "      <td>50579.87228839</td>\n",
       "    </tr>\n",
       "    <tr>\n",
       "      <th>1</th>\n",
       "      <td>2017-08-18</td>\n",
       "      <td>302.00000000</td>\n",
       "      <td>311.79000000</td>\n",
       "      <td>283.94000000</td>\n",
       "      <td>293.96000000</td>\n",
       "      <td>9537.84646000</td>\n",
       "      <td>1503100799999</td>\n",
       "      <td>2858946.50935390</td>\n",
       "      <td>5658</td>\n",
       "      <td>7452.43542000</td>\n",
       "      <td>2240813.26122640</td>\n",
       "      <td>55329.57432378</td>\n",
       "    </tr>\n",
       "    <tr>\n",
       "      <th>2</th>\n",
       "      <td>2017-08-19</td>\n",
       "      <td>293.31000000</td>\n",
       "      <td>299.90000000</td>\n",
       "      <td>278.00000000</td>\n",
       "      <td>290.91000000</td>\n",
       "      <td>2146.19773000</td>\n",
       "      <td>1503187199999</td>\n",
       "      <td>620022.58986170</td>\n",
       "      <td>1795</td>\n",
       "      <td>1537.97550000</td>\n",
       "      <td>444713.61220860</td>\n",
       "      <td>58005.17104565</td>\n",
       "    </tr>\n",
       "    <tr>\n",
       "      <th>3</th>\n",
       "      <td>2017-08-20</td>\n",
       "      <td>289.41000000</td>\n",
       "      <td>300.53000000</td>\n",
       "      <td>282.85000000</td>\n",
       "      <td>299.10000000</td>\n",
       "      <td>2510.13871000</td>\n",
       "      <td>1503273599999</td>\n",
       "      <td>742847.89455990</td>\n",
       "      <td>2038</td>\n",
       "      <td>2186.68739000</td>\n",
       "      <td>647506.06202050</td>\n",
       "      <td>60299.06615403</td>\n",
       "    </tr>\n",
       "    <tr>\n",
       "      <th>4</th>\n",
       "      <td>2017-08-21</td>\n",
       "      <td>299.10000000</td>\n",
       "      <td>346.52000000</td>\n",
       "      <td>294.60000000</td>\n",
       "      <td>323.29000000</td>\n",
       "      <td>5219.44542000</td>\n",
       "      <td>1503359999999</td>\n",
       "      <td>1689472.34121400</td>\n",
       "      <td>3925</td>\n",
       "      <td>4004.19967000</td>\n",
       "      <td>1297977.42311420</td>\n",
       "      <td>66203.84022245</td>\n",
       "    </tr>\n",
       "  </tbody>\n",
       "</table>\n",
       "</div>"
      ],
      "text/plain": [
       "   timestamp          open          high           low         close  \\\n",
       "0 2017-08-17  301.13000000  312.18000000  298.00000000  302.00000000   \n",
       "1 2017-08-18  302.00000000  311.79000000  283.94000000  293.96000000   \n",
       "2 2017-08-19  293.31000000  299.90000000  278.00000000  290.91000000   \n",
       "3 2017-08-20  289.41000000  300.53000000  282.85000000  299.10000000   \n",
       "4 2017-08-21  299.10000000  346.52000000  294.60000000  323.29000000   \n",
       "\n",
       "          volume     close_time          quote_av  trades     tb_base_av  \\\n",
       "0  7030.71034000  1503014399999  2154655.30035660    4522  6224.58999000   \n",
       "1  9537.84646000  1503100799999  2858946.50935390    5658  7452.43542000   \n",
       "2  2146.19773000  1503187199999   620022.58986170    1795  1537.97550000   \n",
       "3  2510.13871000  1503273599999   742847.89455990    2038  2186.68739000   \n",
       "4  5219.44542000  1503359999999  1689472.34121400    3925  4004.19967000   \n",
       "\n",
       "        tb_quote_av          ignore  \n",
       "0  1908705.36853020  50579.87228839  \n",
       "1  2240813.26122640  55329.57432378  \n",
       "2   444713.61220860  58005.17104565  \n",
       "3   647506.06202050  60299.06615403  \n",
       "4  1297977.42311420  66203.84022245  "
      ]
     },
     "execution_count": 23,
     "metadata": {},
     "output_type": "execute_result"
    }
   ],
   "source": [
    "data.head()"
   ]
  },
  {
   "cell_type": "code",
   "execution_count": 16,
   "metadata": {},
   "outputs": [
    {
     "data": {
      "text/plain": [
       "(1615, 12)"
      ]
     },
     "execution_count": 16,
     "metadata": {},
     "output_type": "execute_result"
    }
   ],
   "source": [
    "data.shape"
   ]
  },
  {
   "cell_type": "code",
   "execution_count": null,
   "metadata": {},
   "outputs": [],
   "source": []
  }
 ],
 "metadata": {
  "interpreter": {
   "hash": "916dbcbb3f70747c44a77c7bcd40155683ae19c65e1c03b4aa3499c5328201f1"
  },
  "kernelspec": {
   "display_name": "Python 3.8.10 64-bit",
   "language": "python",
   "name": "python3"
  },
  "language_info": {
   "codemirror_mode": {
    "name": "ipython",
    "version": 3
   },
   "file_extension": ".py",
   "mimetype": "text/x-python",
   "name": "python",
   "nbconvert_exporter": "python",
   "pygments_lexer": "ipython3",
   "version": "3.8.12"
  },
  "orig_nbformat": 4
 },
 "nbformat": 4,
 "nbformat_minor": 2
}
